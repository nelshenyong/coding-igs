{
 "cells": [
  {
   "cell_type": "markdown",
   "id": "9d7e0a17-3309-4e54-874d-d42e44089a58",
   "metadata": {},
   "source": [
    "## Recursion"
   ]
  },
  {
   "cell_type": "code",
   "execution_count": 3,
   "id": "ce798351-5f0c-4b6d-8b30-02e26ec014e8",
   "metadata": {},
   "outputs": [
    {
     "name": "stdout",
     "output_type": "stream",
     "text": [
      "15\n"
     ]
    }
   ],
   "source": [
    "numbers = [1, 2, 3, 4, 5]\n",
    "\n",
    "def total(data):\n",
    "    sum = 0\n",
    "    for number in data:\n",
    "        sum += number\n",
    "    return sum\n",
    "\n",
    "print(total(numbers))"
   ]
  },
  {
   "cell_type": "code",
   "execution_count": 5,
   "id": "1be68665-e702-4483-ac79-8077093cbbd0",
   "metadata": {},
   "outputs": [
    {
     "name": "stdout",
     "output_type": "stream",
     "text": [
      "15\n"
     ]
    }
   ],
   "source": [
    "def total(data):\n",
    "    if not data:\n",
    "        return 0 # base case \n",
    "    if len(data) == 1:\n",
    "        return data[0] # base case \n",
    "    if len(data) == 2:\n",
    "        return data[0] + data[1] # base case\n",
    "    mid = len(data) // 2 \n",
    "    return total(data[:mid]) + total(data[mid:])\n",
    "\n",
    "print(total(numbers))"
   ]
  },
  {
   "cell_type": "code",
   "execution_count": 11,
   "id": "90ad4cdf-5502-4120-8293-1e0d86a2c76d",
   "metadata": {},
   "outputs": [
    {
     "name": "stdout",
     "output_type": "stream",
     "text": [
      "Calling Eki.\n"
     ]
    }
   ],
   "source": [
    "def search_phone_book(phone_book, name):\n",
    "    # Base Case: Jika buku telepon kosong\n",
    "    if not phone_book:\n",
    "        return \"Person not found.\"  # Base Case: tidak ditemukan\n",
    "    \n",
    "    mid = len(phone_book) // 2  # Menentukan indeks tengah\n",
    "    mid_name = phone_book[mid]  # Nama di tengah\n",
    "\n",
    "    # Base Case: Jika nama ditemukan di tengah\n",
    "    if mid_name == name:\n",
    "        return f\"Calling {mid_name}.\"  # Telepon orang tersebut\n",
    "    \n",
    "    # Recursive Case: Jika nama lebih awal dari nama di tengah\n",
    "    elif name < mid_name:\n",
    "        return search_phone_book(phone_book[:mid], name)  # Cari di bagian kiri\n",
    "    \n",
    "    # Recursive Case: Jika nama lebih lambat dari nama di tengah\n",
    "    else:\n",
    "        return search_phone_book(phone_book[mid + 1:], name)  # Cari di bagian kanan\n",
    "\n",
    "# Contoh penggunaan\n",
    "phone_book = [\"Martin\", \"Dayat\", \"Eki\", \"Hendri\", \"Hendra\", \"Hartono\", \"Awi\"]\n",
    "name_to_search = \"Eki\"\n",
    "result = search_phone_book(phone_book, name_to_search)\n",
    "print(result)  # Output: Calling David.\n"
   ]
  },
  {
   "cell_type": "code",
   "execution_count": 37,
   "id": "34b06ecb-6545-4538-b999-fbfd7665b341",
   "metadata": {},
   "outputs": [
    {
     "name": "stdout",
     "output_type": "stream",
     "text": [
      "found\n",
      "not found\n"
     ]
    }
   ],
   "source": [
    "numbers = [2, 3, 4, 10, 40]\n",
    "\n",
    "def binary_search(data, target):\n",
    "    low = 0\n",
    "    high = len(data) - 1\n",
    "    mid = (low + high) // 2\n",
    "    if not data:\n",
    "        return \"not found\"\n",
    "    if target == data[mid]:\n",
    "        return \"found\"\n",
    "    if target < data[mid]:\n",
    "        return binary_search(data[:mid], target)\n",
    "    return binary_search(data[mid+1:], target)\n",
    "\n",
    "print(binary_search(numbers, 10))\n",
    "print(binary_search(numbers, 90))"
   ]
  },
  {
   "cell_type": "code",
   "execution_count": 57,
   "id": "89da8873-3fc5-4a36-bbd3-8f5161bf4022",
   "metadata": {},
   "outputs": [
    {
     "name": "stdout",
     "output_type": "stream",
     "text": [
      "not found\n",
      "not found\n"
     ]
    }
   ],
   "source": [
    "numbers = [2, 3]\n",
    "\n",
    "def binary_search(data, target, low, high):\n",
    "    if low > high:\n",
    "        return \"not found\"\n",
    "    mid = (low + high) // 2\n",
    "    if data[mid] == target:\n",
    "        return f\"found at index {mid}\"\n",
    "    elif target < data[mid]:\n",
    "        return binary_search(data, target, low, mid - 1)\n",
    "    else:\n",
    "        return binary_search(data, target, mid + 1, high)\n",
    "\n",
    "print(binary_search(numbers, 10, 0, len(numbers) - 1))\n",
    "print(binary_search(numbers, 90, 0, len(numbers) - 1))"
   ]
  }
 ],
 "metadata": {
  "kernelspec": {
   "display_name": "Python 3 (ipykernel)",
   "language": "python",
   "name": "python3"
  },
  "language_info": {
   "codemirror_mode": {
    "name": "ipython",
    "version": 3
   },
   "file_extension": ".py",
   "mimetype": "text/x-python",
   "name": "python",
   "nbconvert_exporter": "python",
   "pygments_lexer": "ipython3",
   "version": "3.12.7"
  }
 },
 "nbformat": 4,
 "nbformat_minor": 5
}
